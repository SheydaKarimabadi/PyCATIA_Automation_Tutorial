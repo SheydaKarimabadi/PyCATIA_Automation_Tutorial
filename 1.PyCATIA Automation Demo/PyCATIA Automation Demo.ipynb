{
 "cells": [
  {
   "cell_type": "markdown",
   "id": "13c7e6d2-dd33-40e3-900f-7b11153dbc38",
   "metadata": {},
   "source": [
    "PyCATIA Automation Demo\n",
    "-----------------------\n",
    "In this notebook, we connect Python with CATIA using the PyCATIA library to automate\n",
    "a basic CAD design task. \n",
    "\n",
    "Step by step, we:\n",
    "- Launch a CATIA session\n",
    "- Create a new part document\n",
    "- Open a sketch on the XY plane\n",
    "- Draw a simple circle\n",
    "- Update the part to display the geometry\n",
    "\n",
    "This is the first step in automating design workflows commonly used in automotive OEMs."
   ]
  },
  {
   "cell_type": "markdown",
   "id": "242aab31-67db-401e-9688-dd2bd8cbbd97",
   "metadata": {},
   "source": [
    "## Warnings & Requirements"
   ]
  },
  {
   "cell_type": "markdown",
   "id": "800ddd0a-d3f0-4db2-ae5d-aa0b38e8ac70",
   "metadata": {},
   "source": [
    "Before we start:\n",
    "\n",
    "- We need a licensed CATIA installation.\n",
    "\n",
    "- CATIA must be running before executing the script.\n",
    "\n",
    "- For installation instructions, check the INSTALLATION section in the PyCATIA     documentation."
   ]
  },
  {
   "cell_type": "markdown",
   "id": "3356d1d4-721a-44bd-badd-2138cc33d6a1",
   "metadata": {},
   "source": [
    "## 1. Importing PyCATIA"
   ]
  },
  {
   "cell_type": "code",
   "execution_count": 2,
   "id": "3979dd0e-c8f3-456a-8543-b49f6f0bd980",
   "metadata": {},
   "outputs": [],
   "source": [
    "from pycatia import catia"
   ]
  },
  {
   "cell_type": "markdown",
   "id": "1c2a7be1-1dff-4d24-91d8-10e22fd7c931",
   "metadata": {},
   "source": [
    " This line is like opening the door between Python and CATIA.\n",
    "The catia function is our entry point—it lets Python communicate directly with the CATIA application."
   ]
  },
  {
   "cell_type": "markdown",
   "id": "2d25a12c-c19c-4c37-9117-81b46fa3b813",
   "metadata": {},
   "source": [
    "##  2. Starting a CATIA Session"
   ]
  },
  {
   "cell_type": "code",
   "execution_count": 3,
   "id": "8914cd0b-5ca4-4f4f-a481-c88417270eb1",
   "metadata": {},
   "outputs": [],
   "source": [
    "caa = catia()"
   ]
  },
  {
   "cell_type": "markdown",
   "id": "4b72ed2e-b2a2-4460-8a6c-1d06ac9eac21",
   "metadata": {},
   "source": [
    "Here, we create a “representative” called caa—this object is our direct connection to a running CATIA session.\n",
    "From now on, every command we send to CATIA will go through this object."
   ]
  },
  {
   "cell_type": "markdown",
   "id": "3e897e63-20bb-42c9-8748-d0621b8076fc",
   "metadata": {},
   "source": [
    "## 3. Creating a New Part Document"
   ]
  },
  {
   "cell_type": "code",
   "execution_count": 4,
   "id": "7bab2ac3-5260-47a6-96c6-85719276d6ef",
   "metadata": {},
   "outputs": [],
   "source": [
    "documents = caa.documents\n",
    "part_doc = documents.add(\"Part\")"
   ]
  },
  {
   "cell_type": "markdown",
   "id": "24f15841-938c-48a1-8471-316e76cc75e7",
   "metadata": {},
   "source": [
    "documents represents the list of all files currently open in CATIA.\n",
    "\n",
    "add(\"Part\") tells CATIA to create a brand-new part document—just like going to File → New → Part in the GUI.\n",
    "Now we have a blank workspace ready for design."
   ]
  },
  {
   "cell_type": "markdown",
   "id": "210e62b0-c4cf-4315-b7d7-386177086244",
   "metadata": {},
   "source": [
    "## 4. Accessing the Part Object"
   ]
  },
  {
   "cell_type": "code",
   "execution_count": 5,
   "id": "62ea25bc-8e44-473c-ba71-97ee31290779",
   "metadata": {},
   "outputs": [],
   "source": [
    "part = part_doc.part"
   ]
  },
  {
   "cell_type": "markdown",
   "id": "979b944e-5a85-4830-8814-fd34c8dc3246",
   "metadata": {},
   "source": [
    "This line steps inside our new document and grabs the actual Part object—the core of our 3D model.\n",
    "All geometry changes will happen here."
   ]
  },
  {
   "cell_type": "markdown",
   "id": "bc2b06e4-7ee4-46b2-a1b4-09dc831a2d1e",
   "metadata": {},
   "source": [
    "##  5. Creating a Sketch on the XY Plane"
   ]
  },
  {
   "cell_type": "code",
   "execution_count": 6,
   "id": "1ee5925c-90e8-48e8-bb94-34f9f4254d59",
   "metadata": {},
   "outputs": [],
   "source": [
    "bodies = part.bodies\n",
    "body = bodies.item(1)\n",
    "\n",
    "sketches = body.sketches\n",
    "xy_plane = part.origin_elements.plane_xy\n",
    "sketch = sketches.add(xy_plane)"
   ]
  },
  {
   "cell_type": "markdown",
   "id": "5890b3b1-9d8f-4285-9efb-3c8b3e3bebf2",
   "metadata": {},
   "source": [
    "Every CATIA model has one or more bodies—containers for geometry.\n",
    "\n",
    "We select the first body with item(1).\n",
    "\n",
    "Then we get the sketches collection from that body.\n",
    "\n",
    "xy_plane is the flat plane defined by the X and Y axes.\n",
    "\n",
    "sketches.add(xy_plane) creates a brand-new sketch on that plane, ready for 2D drawing."
   ]
  },
  {
   "cell_type": "markdown",
   "id": "a3414711-106f-4c1b-a566-6adefb2992d9",
   "metadata": {},
   "source": [
    "## 6. Drawing a Circle"
   ]
  },
  {
   "cell_type": "code",
   "execution_count": 11,
   "id": "850c4da2-e683-4c0a-8a59-425a1bd09ea4",
   "metadata": {},
   "outputs": [],
   "source": [
    "factory2D = sketch.open_edition()\n",
    "circle = factory2D.create_closed_circle(0, 0, 10)\n",
    "circle = factory2D.create_closed_circle(0, 0, 20)\n",
    "circle = factory2D.create_closed_circle(0, 0, 50)\n",
    "sketch.close_edition()"
   ]
  },
  {
   "cell_type": "markdown",
   "id": "b0542952-e183-4276-8b28-5bee53e2ee05",
   "metadata": {},
   "source": [
    " open_edition() means “open the sketch for editing.”\n",
    "\n",
    "create_circle(0, 0, 10) draws a circle centered at coordinates (0,0) with a radius of 10 millimeters.\n",
    "\n",
    "close_edition() closes the sketch and saves our changes.\n"
   ]
  },
  {
   "cell_type": "markdown",
   "id": "f7cae3bc-cc83-44e2-b3d9-0af94f7eb7a3",
   "metadata": {},
   "source": [
    "## 7. Updating the Part "
   ]
  },
  {
   "cell_type": "code",
   "execution_count": 13,
   "id": "48b94c70-329d-455c-b998-cecfa01dd7da",
   "metadata": {},
   "outputs": [],
   "source": [
    "part.update()"
   ]
  },
  {
   "cell_type": "markdown",
   "id": "37dec096-a372-4fe5-943b-482dffdb54d1",
   "metadata": {},
   "source": [
    "This is like hitting the “Refresh” button in CATIA—it tells the software to apply and display our new geometry."
   ]
  },
  {
   "cell_type": "markdown",
   "id": "a2cc0810-7319-4b4b-8391-2ae53240ee5f",
   "metadata": {},
   "source": [
    " ## Result"
   ]
  },
  {
   "cell_type": "markdown",
   "id": "47aa365e-e26e-4736-9fb9-b3f66b921235",
   "metadata": {},
   "source": [
    " And here it is—our very first CATIA geometry created directly from Python!\n",
    "It’s a small step, but it’s the foundation for fully automated CAD workflows."
   ]
  }
 ],
 "metadata": {
  "kernelspec": {
   "display_name": "Python 3 (ipykernel)",
   "language": "python",
   "name": "python3"
  },
  "language_info": {
   "codemirror_mode": {
    "name": "ipython",
    "version": 3
   },
   "file_extension": ".py",
   "mimetype": "text/x-python",
   "name": "python",
   "nbconvert_exporter": "python",
   "pygments_lexer": "ipython3",
   "version": "3.13.2"
  }
 },
 "nbformat": 4,
 "nbformat_minor": 5
}
