{
 "cells": [
  {
   "cell_type": "markdown",
   "id": "d593cc32-11e6-4c32-851a-006312deba45",
   "metadata": {},
   "source": [
    "Notebook Summary: Creating a Cylinder with PyCATIA\n",
    "-------------------------\n",
    "This notebook demonstrates how to design a simple 3D cylinder in CATIA using the PyCATIA Python library.\n",
    "\n",
    "Step by step, we:\n",
    "\n",
    "1. **Connect to CATIA**\n",
    "\n",
    "Establish a connection to the running CATIA session with catia().\n",
    "\n",
    "\n",
    "\n",
    "2. **Create a New Part Document**\n",
    "\n",
    "Access CATIA documents and add a new Part.\n",
    "\n",
    "\n",
    "\n",
    "3. **Access Part Object & ShapeFactory**\n",
    "\n",
    "Retrieve the Part object (part) to manage geometry.\n",
    "\n",
    "Access shape_factory for creating 3D features.\n",
    "\n",
    "\n",
    "\n",
    "4. **Select Body & Sketch**\n",
    "\n",
    "Access the first Body in the Part.\n",
    "\n",
    "Create a new sketch on the XY plane using origin elements.\n",
    "\n",
    "\n",
    "\n",
    "5. **Draw the Circle**\n",
    "\n",
    "Use factory_2d.create_closed_circle to draw a circle at the origin.\n",
    "\n",
    "Close the sketch to finalize it for 3D operations.\n",
    "\n",
    "\n",
    "\n",
    "6. **Extrude to Create Cylinder**\n",
    "\n",
    "Define the cylinder height (length = 100).\n",
    "\n",
    "Use shape_factory.add_new_pad to create the 3D cylinder.\n",
    "\n",
    "\n",
    "\n",
    "7. **Update the Part**\n",
    "\n",
    "Call part.update() to apply all changes and refresh the model in CATIA.\n",
    "\n",
    "\n",
    "**********************\n",
    "This step-by-step automation script is useful for engineers and CAD professionals looking to streamline repetitive modeling tasks and integrate CATIA with Python for enhanced productivity and customization.\n",
    "**********************\n",
    "## Key Notes\n",
    "\n",
    "- CATIA collections are 1-indexed, so the first Body is accessed with .item(1).\n",
    "\n",
    "- All sketches must be closed before creating 3D features.\n",
    "\n",
    "- Using in_work_object ensures CATIA knows which object is currently active.\n"
   ]
  },
  {
   "cell_type": "markdown",
   "id": "a969637c-87b7-49cf-9a60-7289cdddbeb9",
   "metadata": {},
   "source": [
    "Warnings & Requirements\n",
    "-----------------------\n",
    "Before we start:\n",
    "\n",
    "- We need a licensed CATIA installation.\n",
    "\n",
    "- CATIA must be running before executing the script.\n",
    "\n",
    "- For installation instructions, check the INSTALLATION section in the PyCATIA     documentation."
   ]
  },
  {
   "cell_type": "markdown",
   "id": "9b4ac8cd-bc4c-43e0-af6c-646b8b41dd3d",
   "metadata": {},
   "source": [
    "## 1. Connect to CATIA"
   ]
  },
  {
   "cell_type": "code",
   "execution_count": 26,
   "id": "cc572514-3c25-4fcd-847f-b1b68faaac88",
   "metadata": {},
   "outputs": [],
   "source": [
    "from pycatia import catia\n",
    "caa = catia()"
   ]
  },
  {
   "cell_type": "markdown",
   "id": "6db91188-5390-4abf-b2c4-bfe7d693f502",
   "metadata": {},
   "source": [
    "Open the connection to the running CATIA session.\n",
    "\n",
    "caa is your bridge to communicate with CATIA from Python."
   ]
  },
  {
   "cell_type": "markdown",
   "id": "f2fe84a3-46e1-4600-9a71-b141f20c05fe",
   "metadata": {},
   "source": [
    "## 2. Access Documents and Create a New Part"
   ]
  },
  {
   "cell_type": "code",
   "execution_count": 27,
   "id": "db6a9958-42a1-4f4d-aa5f-94e442b315cc",
   "metadata": {},
   "outputs": [],
   "source": [
    "documents = caa.documents\n",
    "part_document = documents.add(\"Part\")"
   ]
  },
  {
   "cell_type": "markdown",
   "id": "d7681dcc-3b6d-4de8-9f43-c83a01dd3dea",
   "metadata": {},
   "source": [
    "documents gives you the collection of all open CATIA documents.\n",
    "\n",
    "documents.add(\"Part\") creates a new Part document, which is now ready to hold your 3D design."
   ]
  },
  {
   "cell_type": "markdown",
   "id": "47de8df2-be81-43a3-9754-35600f6ea7a1",
   "metadata": {},
   "source": [
    "## 3. Access the Part Object"
   ]
  },
  {
   "cell_type": "code",
   "execution_count": 28,
   "id": "a2c9fc2c-8ede-474b-9aa9-f9854aa35034",
   "metadata": {},
   "outputs": [],
   "source": [
    "part = part_document.part"
   ]
  },
  {
   "cell_type": "markdown",
   "id": "be1d22b3-a41c-4bf9-9495-f7395848505a",
   "metadata": {},
   "source": [
    "Retrieves the main Part object, the container for all bodies, sketches, and features."
   ]
  },
  {
   "cell_type": "markdown",
   "id": "0c1d2494-5f2b-46bd-a0dd-4a9a9b86d423",
   "metadata": {},
   "source": [
    "## 4. Access the ShapeFactory and Bodies"
   ]
  },
  {
   "cell_type": "code",
   "execution_count": 29,
   "id": "c9e0dd81-726a-4702-b3e4-c891c40a0f93",
   "metadata": {},
   "outputs": [],
   "source": [
    "shape_factory = part.shape_factory\n",
    "bodies = part.bodies\n",
    "body = bodies.item(1)"
   ]
  },
  {
   "cell_type": "markdown",
   "id": "22fe8d14-55f2-4c0d-980c-28c9422d4e0f",
   "metadata": {},
   "source": [
    "shape_factory is your toolbox for creating 3D features.\n",
    "\n",
    "bodies gives you access to all building blocks inside the Part, and body selects the first one for sketching."
   ]
  },
  {
   "cell_type": "markdown",
   "id": "61d1f813-f8fc-468c-8965-969521f7bbe0",
   "metadata": {},
   "source": [
    "## 5. Create a Sketch on the XY Plane"
   ]
  },
  {
   "cell_type": "code",
   "execution_count": 30,
   "id": "54d5da44-dcd8-4b7d-8351-98045c908472",
   "metadata": {},
   "outputs": [],
   "source": [
    "sketches_body = body.sketches\n",
    "origin_elements = part.origin_elements\n",
    "reference_xy = origin_elements.plane_xy\n",
    "sketch_body = sketches_body.add(part.create_reference_from_object(reference_xy))"
   ]
  },
  {
   "cell_type": "code",
   "execution_count": 31,
   "id": "ba1815a6-0dae-4c2c-963d-bf42518775ba",
   "metadata": {},
   "outputs": [],
   "source": [
    "part.in_work_object = sketch_body"
   ]
  },
  {
   "cell_type": "markdown",
   "id": "95f73473-0000-4bf8-ae88-d982eb54ad90",
   "metadata": {},
   "source": [
    "Accesses the Sketches collection of the Body.\n",
    "\n",
    "Picks the XY plane as the reference for the sketch.\n",
    "\n",
    "Adds a new sketch and opens it for 2D drawing with factory_2d."
   ]
  },
  {
   "cell_type": "markdown",
   "id": "0468e5b4-1102-4e33-894e-02959b1574dd",
   "metadata": {},
   "source": [
    "## 6. Draw the Base Circle for the Cylinder"
   ]
  },
  {
   "cell_type": "code",
   "execution_count": 32,
   "id": "7266fded-2cab-4692-9fe8-bcd1b872e8ae",
   "metadata": {},
   "outputs": [],
   "source": [
    "factory_2d = sketch_body.open_edition()\n",
    "circle = factory_2d.create_closed_circle(0, 0, 25)\n",
    "sketch_body.close_edition()"
   ]
  },
  {
   "cell_type": "markdown",
   "id": "38942ae3-bd95-4a74-b7a1-1e4210cde3dc",
   "metadata": {},
   "source": [
    "Draws a circle at the origin (0,0) with radius 25.\n",
    "\n",
    "Closes the sketch to finalize it for 3D operations."
   ]
  },
  {
   "cell_type": "markdown",
   "id": "dc038785-c389-4c39-bf0f-1c5fb754f690",
   "metadata": {},
   "source": [
    "## 7. Define Cylinder Height and Create the Pad"
   ]
  },
  {
   "cell_type": "code",
   "execution_count": 33,
   "id": "88098b68-8436-4f23-9e36-8b11eb57a564",
   "metadata": {},
   "outputs": [],
   "source": [
    "length = 100"
   ]
  },
  {
   "cell_type": "code",
   "execution_count": 34,
   "id": "625e6aaf-dacd-4fdb-91d2-bfa403212335",
   "metadata": {},
   "outputs": [
    {
     "data": {
      "text/plain": [
       "Pad(name=\"Pad.1\")"
      ]
     },
     "execution_count": 34,
     "metadata": {},
     "output_type": "execute_result"
    }
   ],
   "source": [
    "shape_factory.add_new_pad(sketch_body, length)"
   ]
  },
  {
   "cell_type": "markdown",
   "id": "66927df2-1ab6-4d49-b117-f58a5c82cb58",
   "metadata": {},
   "source": [
    "Sets the cylinder height to 100.\n",
    "\n",
    "Extrudes the circle into a 3D cylinder (pad) using the ShapeFactory."
   ]
  },
  {
   "cell_type": "markdown",
   "id": "bfb28285-6fa7-4183-afee-1f27d7828d44",
   "metadata": {},
   "source": [
    "## 8. Update the Part"
   ]
  },
  {
   "cell_type": "code",
   "execution_count": 35,
   "id": "9bf39c3a-8ed2-45c3-b0c0-7684f1d7c65a",
   "metadata": {},
   "outputs": [],
   "source": [
    "part.update()"
   ]
  },
  {
   "cell_type": "markdown",
   "id": "9d2c363e-75c2-4d94-98e3-7ee0b5fa91f4",
   "metadata": {},
   "source": [
    "Applies all changes, recalculates the model, and ensures the cylinder is fully visible in CATIA."
   ]
  },
  {
   "cell_type": "markdown",
   "id": "508da345-f736-4996-ba28-2ff21160038c",
   "metadata": {},
   "source": [
    "## ✅ Note:\n",
    "\n",
    "If you’re curious about why CATIA collections start indexing at 1 instead of 0, I explained it in detail in a LinkedIn post. You can check it out for deeper insights.\n",
    "\n",
    "Feel free to comment here or on LinkedIn if you have experiences or questions—let’s connect!\n",
    "\n",
    "And if this tutorial is useful, don’t forget to subscribe and share."
   ]
  },
  {
   "cell_type": "markdown",
   "id": "53dd8602-6cb6-49a6-8e8a-a9c8afe1340a",
   "metadata": {},
   "source": [
    "## Result"
   ]
  },
  {
   "cell_type": "markdown",
   "id": "9b51617b-df0b-4e7e-86e2-be7f741403ca",
   "metadata": {},
   "source": [
    " A fully defined 3D cylinder, ready for further operations like fillets, holes, or assemblies."
   ]
  }
 ],
 "metadata": {
  "kernelspec": {
   "display_name": "Python 3 (ipykernel)",
   "language": "python",
   "name": "python3"
  },
  "language_info": {
   "codemirror_mode": {
    "name": "ipython",
    "version": 3
   },
   "file_extension": ".py",
   "mimetype": "text/x-python",
   "name": "python",
   "nbconvert_exporter": "python",
   "pygments_lexer": "ipython3",
   "version": "3.13.2"
  }
 },
 "nbformat": 4,
 "nbformat_minor": 5
}
