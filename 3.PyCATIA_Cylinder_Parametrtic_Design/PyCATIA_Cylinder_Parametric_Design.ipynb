{
 "cells": [
  {
   "cell_type": "markdown",
   "id": "a91c666a-ed9f-4897-ab7d-353424bb4b75",
   "metadata": {},
   "source": [
    "## <span style=\"color:darkblue\"> How to parametric design a simple 3D cylinder in CATIA using the PyCATIA? </span>\n",
    "\n",
    "This notebook demonstrates how to parametric design a simple 3D cylinder in CATIA using the PyCATIA Python library.\n",
    "\n",
    "Step by step, we:\n",
    "\n",
    "1. **Connect to CATIA and Create a New Part Document**\n",
    "2. **Access main body and XY plane**\n",
    "3. **Create parameters for radius and height**\n",
    "4. **Create a sketch on XY plane**\n",
    "5. **Draw a circle with the radius parameter**\n",
    "6. **Pad the sketch using height parameter**\n",
    "7. **Update the part**"
   ]
  },
  {
   "cell_type": "markdown",
   "id": "49501f6f-3f1d-432a-849f-7e65e4fa7505",
   "metadata": {},
   "source": [
    "Warnings & Requirements\n",
    "-----------------------\n",
    "Before we start:\n",
    "\n",
    "- We need a licensed CATIA installation.\n",
    "\n",
    "- CATIA must be running before executing the script.\n",
    "\n",
    "- For installation instructions, check the INSTALLATION section in the PyCATIA     documentation."
   ]
  },
  {
   "cell_type": "markdown",
   "id": "562c2fda-be04-4946-ab79-7d60d0096027",
   "metadata": {},
   "source": [
    "---------------------------------"
   ]
  },
  {
   "cell_type": "markdown",
   "id": "d45f9bf2-3737-4930-bd69-3ddc920aceda",
   "metadata": {},
   "source": [
    "# 0. Importing the library"
   ]
  },
  {
   "cell_type": "code",
   "execution_count": 66,
   "id": "5771ffdb-29fb-4b3c-996d-4e63e234f089",
   "metadata": {},
   "outputs": [],
   "source": [
    "from pycatia import catia"
   ]
  },
  {
   "cell_type": "markdown",
   "id": "1e7d7b43-80c3-4304-baef-450fe188ac35",
   "metadata": {},
   "source": [
    "Alright, first we just import PyCATIA so we can actually talk to CATIA from Python."
   ]
  },
  {
   "cell_type": "markdown",
   "id": "0af1e9b2-59f5-4fc8-8aba-c9df3d4c409f",
   "metadata": {},
   "source": [
    " # 1. Connect to CATIA and Create a New Part Document"
   ]
  },
  {
   "cell_type": "code",
   "execution_count": 67,
   "id": "1f42ad24-be47-470e-98bf-ddd22ac803a5",
   "metadata": {},
   "outputs": [],
   "source": [
    "caa = catia()\n",
    "documents = caa.documents\n",
    "documents.add('Part')  # New CATPart\n",
    "doc = caa.active_document\n",
    "part = doc.part"
   ]
  },
  {
   "cell_type": "markdown",
   "id": "9743dc05-3906-4f27-a7e2-12d61171c323",
   "metadata": {},
   "source": [
    "Here we start a new CATIA session, make a fresh CATPart, and grab the part object so we can work with it."
   ]
  },
  {
   "cell_type": "markdown",
   "id": "471f2fe9-3083-4a7e-aef4-eb80fd948e95",
   "metadata": {},
   "source": [
    "# 2. Access main body and XY plane"
   ]
  },
  {
   "cell_type": "code",
   "execution_count": 68,
   "id": "e39489c9-8b9b-4374-b420-5070b55498a6",
   "metadata": {},
   "outputs": [],
   "source": [
    "bodies = part.bodies\n",
    "main_body = bodies.item(1)    # -> PartBody in CATPart \n",
    "part.in_work_object = main_body    # -> Define In Work Object\n",
    "origin_elements = part.origin_elements   # Origin elements include the default planes (XY, YZ, XZ) and the origin point.\n",
    "plane_xy = origin_elements.plane_xy"
   ]
  },
  {
   "cell_type": "markdown",
   "id": "1ed78677-58cb-4e6a-965e-7ff37b1923e6",
   "metadata": {},
   "source": [
    "Now we pick the main body, set it as the active work object, and grab the XY plane from the origin so we can start sketching on it.\n"
   ]
  },
  {
   "cell_type": "markdown",
   "id": "c69c2113-c0d5-4f32-97c5-0068a7627458",
   "metadata": {},
   "source": [
    "# 3. Create parameters for radius and height"
   ]
  },
  {
   "cell_type": "code",
   "execution_count": 69,
   "id": "6d58a705-a478-4092-9a0c-62f736c243cd",
   "metadata": {},
   "outputs": [],
   "source": [
    "parameters = part.parameters   # -> Formulas: Parameters\n",
    "radius_param = parameters.create_real('Cylinder_Radius', 20.0)  # mm   # -> Filter Type: Real\n",
    "height_param = parameters.create_real('Cylinder_Height', 60.0)  # mm   # -> Filter Type: Real"
   ]
  },
  {
   "cell_type": "markdown",
   "id": "611eed08-6262-405c-9f13-dfe7fa1e04b2",
   "metadata": {},
   "source": [
    "Here we’re getting the parameters object from the part. Then we create two real parameters: one called Cylinder_Radius with a value of 20 millimeters, and\n",
    "\n",
    "another called Cylinder_Height with a value of 60 millimeters. ‘Real’ just means they’re numeric values, so we can use them as dimensions in our model. \n",
    "\n",
    "This way, we can easily change the cylinder’s radius or height later on."
   ]
  },
  {
   "cell_type": "markdown",
   "id": "dbfbef23-a52e-44c1-b7b8-815e772b429d",
   "metadata": {},
   "source": [
    "# 4. Create a sketch on XY plane"
   ]
  },
  {
   "cell_type": "code",
   "execution_count": 70,
   "id": "4921e8c2-a7de-4866-bfc0-4805b191bf47",
   "metadata": {},
   "outputs": [],
   "source": [
    "sketches = main_body.sketches   # Click Sketch. \n",
    "sketch = sketches.add(plane_xy)   # Select xy plane."
   ]
  },
  {
   "cell_type": "markdown",
   "id": "df3ffb09-d817-4c40-b38e-0215fdb7ceaf",
   "metadata": {},
   "source": [
    "Next, we add a new sketch on the XY plane—that’s where we’ll draw the base circle for our cylinder."
   ]
  },
  {
   "cell_type": "markdown",
   "id": "2b39a72f-7c4b-451a-ba1f-d332f798814e",
   "metadata": {},
   "source": [
    "# 5. Draw a circle with the radius parameter"
   ]
  },
  {
   "cell_type": "code",
   "execution_count": 71,
   "id": "d6385c7d-26c1-459e-a420-d1b83f4895ba",
   "metadata": {},
   "outputs": [],
   "source": [
    "factory2d = sketch.open_edition()   # Open Sketcher \n",
    "circle = factory2d.create_closed_circle(0, 0, radius_param.value)   # Draw a circle(closed circle) \n",
    "sketch.close_edition()   # Exit workbench"
   ]
  },
  {
   "cell_type": "markdown",
   "id": "b782d957-22c6-42dd-8a94-3120de6edcfd",
   "metadata": {},
   "source": [
    "Here we jump into the sketcher, draw a circle at the origin using our radius parameter, and then close the sketch.\n"
   ]
  },
  {
   "cell_type": "markdown",
   "id": "a807705a-5680-47aa-8977-0d5f2fa031b5",
   "metadata": {},
   "source": [
    "# 6. Pad the sketch using height parameter"
   ]
  },
  {
   "cell_type": "code",
   "execution_count": 72,
   "id": "555456a6-e537-4a58-a1e2-3a0fef76200c",
   "metadata": {},
   "outputs": [],
   "source": [
    "shape_factory = part.shape_factory  # .shape_factory is essential to create 3D objects.\n",
    "pad = shape_factory.add_new_pad_from_ref(part.create_reference_from_object(sketch), height_param.value) # Add new Pad "
   ]
  },
  {
   "cell_type": "markdown",
   "id": "f553db3b-791c-4e75-a924-d46507ebb31d",
   "metadata": {},
   "source": [
    "Now we take that circle sketch and pad it up using the height parameter—this gives us our 3D cylinder."
   ]
  },
  {
   "cell_type": "markdown",
   "id": "3e6105f9-92b0-43c9-bb8d-5e72ee956196",
   "metadata": {},
   "source": [
    "Here we grab the shape factory, which is what lets us build 3D features. Then we turn our sketch into a reference and use it to create a pad with the height parameter—that’s what actually makes the solid cylinder.\n"
   ]
  },
  {
   "cell_type": "markdown",
   "id": "e57a8bb8-b0f5-464f-8fd6-d163d2e57096",
   "metadata": {},
   "source": [
    "# 7. Update the part"
   ]
  },
  {
   "cell_type": "code",
   "execution_count": 73,
   "id": "3d52a10d-0395-4482-92a8-8e060cb0d16d",
   "metadata": {},
   "outputs": [
    {
     "name": "stdout",
     "output_type": "stream",
     "text": [
      "✅ Parametric cylinder created successfully!\n",
      "You can change 'Cylinder_Radius' and 'Cylinder_Height' in CATIA or the code and update the part.\n"
     ]
    }
   ],
   "source": [
    "part.update()\n",
    "\n",
    "print(\"✅ Parametric cylinder created successfully!\")\n",
    "print(\"You can change 'Cylinder_Radius' and 'Cylinder_Height' in CATIA or the code and update the part.\")"
   ]
  },
  {
   "cell_type": "markdown",
   "id": "b24b8ee0-43c5-4e4d-ab45-0e61d4bb2b56",
   "metadata": {},
   "source": [
    "Finally, we update the part and print a message—now the cylinder is fully parametric, and we can tweak the radius or height anytime.\n",
    "\n",
    "And that’s it—we’ve built a fully parametric cylinder in CATIA using PyCATIA.\n"
   ]
  }
 ],
 "metadata": {
  "kernelspec": {
   "display_name": "Python 3 (ipykernel)",
   "language": "python",
   "name": "python3"
  },
  "language_info": {
   "codemirror_mode": {
    "name": "ipython",
    "version": 3
   },
   "file_extension": ".py",
   "mimetype": "text/x-python",
   "name": "python",
   "nbconvert_exporter": "python",
   "pygments_lexer": "ipython3",
   "version": "3.13.2"
  }
 },
 "nbformat": 4,
 "nbformat_minor": 5
}
