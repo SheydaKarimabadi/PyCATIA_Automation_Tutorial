{
 "cells": [
  {
   "cell_type": "markdown",
   "id": "117cb738-4040-4ac0-bdc2-9c06b38c5cfb",
   "metadata": {},
   "source": [
    "# Parametric Bracket with Holes in CATIA\n",
    "\n",
    "This Python script demonstrates how to automate CATIA using **PyCATIA** to create a simple **parametric bracket** with two holes.  \n",
    "The dimensions (length, width, thickness, hole diameter, and offsets) can be easily modified by changing the parameter values in the script."
   ]
  },
  {
   "cell_type": "markdown",
   "id": "622268a4-fd26-4341-a19e-d112dc69511b",
   "metadata": {},
   "source": [
    "#  How to Use\n",
    "- Install PyCATIA in Python.\n",
    "- Open CATIA and make sure it is running.\n",
    "- Run the script from your Python environment."
   ]
  },
  {
   "cell_type": "markdown",
   "id": "689b7c10-4242-4a83-bc0d-07a47d2e8db9",
   "metadata": {},
   "source": [
    "# 1. Import PyCATIA and connect to CATIA\n"
   ]
  },
  {
   "cell_type": "code",
   "execution_count": 43,
   "id": "00039c47-7417-40d0-bb3a-78661bba4e5e",
   "metadata": {},
   "outputs": [],
   "source": [
    "from pycatia import catia\n",
    "\n",
    "caa = catia()\n",
    "\n",
    "document = caa.documents.add('Part')\n",
    "part = document.part\n",
    "\n",
    "shape_factory = part.shape_factory\n",
    "\n",
    "bodies = part.bodies\n",
    "body = bodies.item(1)\n",
    "\n",
    "origin_elements = part.origin_elements\n",
    "xy_plane = origin_elements.plane_xy"
   ]
  },
  {
   "cell_type": "markdown",
   "id": "5103091b-be76-4824-933c-ea219d015135",
   "metadata": {},
   "source": [
    "Import the PyCATIA library.\n",
    "\n",
    "Start a CATIA session and create a new Part."
   ]
  },
  {
   "cell_type": "markdown",
   "id": "98a1f99c-43a4-40e6-a2e3-86556e8184c1",
   "metadata": {},
   "source": [
    "Access the main body and the XY plane for sketching."
   ]
  },
  {
   "cell_type": "markdown",
   "id": "ed1f3a92-d920-48f4-b4c3-6a02d583f9b9",
   "metadata": {},
   "source": [
    "> **Note:** 📖 What is ShapeFactory in PyCATIA?\n",
    "<div style=\"background-color:lightyellow; padding:10px; border-radius:5px;\">\n",
    "The ShapeFactory object in PyCATIA is a Python wrapper around CATIA’s Part Design API for creating and modifying 3D features.\n",
    "\n",
    "In CATIA, the ShapeFactory is the tool responsible for turning sketches and references into solid or surface geometry. In PyCATIA, the same functionality is exposed through methods that let you automate 3D modeling directly from Python.\n",
    "</div>\n"
   ]
  },
  {
   "cell_type": "markdown",
   "id": "295f4a81-0b0e-4223-88c6-45d27086f2a4",
   "metadata": {},
   "source": [
    "# 2. Define Parameters"
   ]
  },
  {
   "cell_type": "code",
   "execution_count": 44,
   "id": "b734f9db-1843-4d0d-bf5d-4e83ddc30715",
   "metadata": {},
   "outputs": [],
   "source": [
    "length = 100\n",
    "width = 40\n",
    "thickness = 10\n",
    "hole_diameter = 8\n",
    "hole_offset = 15"
   ]
  },
  {
   "cell_type": "markdown",
   "id": "bbc23845-5270-4b3a-8395-d2f46ff15b0f",
   "metadata": {},
   "source": [
    "Define key dimensions for the bracket:\n",
    "\n",
    "- length and width of the plate\n",
    "\n",
    "- thickness of the part (Pad extrusion)\n",
    "\n",
    "- hole_diameter for the circular holes\n",
    "\n",
    "- hole_offset from the edges"
   ]
  },
  {
   "cell_type": "markdown",
   "id": "1e5ac1ef-4142-43fd-8257-0d8f170357ca",
   "metadata": {},
   "source": [
    "# 3. Create Sketch on XY Plane"
   ]
  },
  {
   "cell_type": "code",
   "execution_count": 45,
   "id": "92063e67-6c64-4bb9-b403-64a90d87f6a7",
   "metadata": {},
   "outputs": [],
   "source": [
    "sketches = body.sketches\n",
    "\n",
    "sketch = sketches.add(xy_plane)\n",
    "\n",
    "factory_2d = sketch.open_edition()"
   ]
  },
  {
   "cell_type": "markdown",
   "id": "f51ae20b-8e88-42b7-a482-e46852db63dc",
   "metadata": {},
   "source": [
    "Create a new sketch on the XY plane.\n",
    "\n",
    "Open the sketcher to start drawing geometry.\n"
   ]
  },
  {
   "cell_type": "markdown",
   "id": "15b797e2-8ee7-408d-b268-23c4a5c590b9",
   "metadata": {},
   "source": [
    "# 4. Draw Rectangle"
   ]
  },
  {
   "cell_type": "code",
   "execution_count": 46,
   "id": "99cb3683-f23c-494d-ade6-fed0ab3090ab",
   "metadata": {},
   "outputs": [
    {
     "data": {
      "text/plain": [
       "Line2D(name=\"Line.4\")"
      ]
     },
     "execution_count": 46,
     "metadata": {},
     "output_type": "execute_result"
    }
   ],
   "source": [
    "factory_2d.create_line(0, 0, length, 0)\n",
    "factory_2d.create_line(length, 0, length, width)\n",
    "factory_2d.create_line(length, width, 0, width)\n",
    "factory_2d.create_line(0, width, 0, 0)"
   ]
  },
  {
   "cell_type": "markdown",
   "id": "3e63814d-0e2e-47c1-a752-48387b18b69a",
   "metadata": {},
   "source": [
    "Draw a closed rectangle representing the base of the bracket."
   ]
  },
  {
   "cell_type": "markdown",
   "id": "994a5d16-1adc-414c-a209-ec86c7362bf7",
   "metadata": {},
   "source": [
    "# 5. Add Holes"
   ]
  },
  {
   "cell_type": "code",
   "execution_count": 47,
   "id": "2a3f4301-9012-466d-9dff-b224687a0e8f",
   "metadata": {},
   "outputs": [
    {
     "data": {
      "text/plain": [
       "Circle2D(name=\"Circle.2\")"
      ]
     },
     "execution_count": 47,
     "metadata": {},
     "output_type": "execute_result"
    }
   ],
   "source": [
    "factory_2d.create_closed_circle(hole_offset, width/2, hole_diameter/2)\n",
    "factory_2d.create_closed_circle(length - hole_offset, width/2, hole_diameter/2)"
   ]
  },
  {
   "cell_type": "markdown",
   "id": "93bcb2aa-f8cc-4342-a5ce-2f4956533831",
   "metadata": {},
   "source": [
    "Add two circles to represent holes.\n",
    "\n",
    "They are placed symmetrically on the bracket using the hole_offset parameter."
   ]
  },
  {
   "cell_type": "markdown",
   "id": "b3e57a65-5c53-4229-9118-f550d670f7e5",
   "metadata": {},
   "source": [
    "# 6. Close Sketch"
   ]
  },
  {
   "cell_type": "code",
   "execution_count": 48,
   "id": "54a3a156-c796-4989-a1c6-da13474cedd4",
   "metadata": {},
   "outputs": [],
   "source": [
    "sketch.close_edition()\n",
    "\n",
    "part.in_work_object = sketch"
   ]
  },
  {
   "cell_type": "markdown",
   "id": "d3a2f189-67ff-42a3-92da-4825c4d230bf",
   "metadata": {},
   "source": [
    "Finish editing the sketch and set it as the active work object."
   ]
  },
  {
   "cell_type": "markdown",
   "id": "875657c0-eaa7-4a5a-9a45-08de86f3bab3",
   "metadata": {},
   "source": [
    "# 7. Create Pad (Extrude)"
   ]
  },
  {
   "cell_type": "code",
   "execution_count": 49,
   "id": "16e9a52d-985e-44fb-a34c-e10532db222e",
   "metadata": {},
   "outputs": [],
   "source": [
    "pad = shape_factory.add_new_pad(sketch, thickness)"
   ]
  },
  {
   "cell_type": "code",
   "execution_count": 50,
   "id": "a3ff2a64-2504-44e0-a816-f22e1fbf287a",
   "metadata": {},
   "outputs": [
    {
     "name": "stdout",
     "output_type": "stream",
     "text": [
      "✅ Parametric bracket with holes created successfully!\n"
     ]
    }
   ],
   "source": [
    "part.update()\n",
    "print(\"✅ Parametric bracket with holes created successfully!\")"
   ]
  },
  {
   "cell_type": "markdown",
   "id": "dc017897-d119-4e15-8f11-a5125cdad7da",
   "metadata": {},
   "source": [
    "Extrude the sketch using the thickness parameter to form a solid 3D bracket.\n",
    "\n",
    "Update the part to finalize geometry.\n",
    "\n",
    "Print confirmation in the console."
   ]
  }
 ],
 "metadata": {
  "kernelspec": {
   "display_name": "Python 3 (ipykernel)",
   "language": "python",
   "name": "python3"
  },
  "language_info": {
   "codemirror_mode": {
    "name": "ipython",
    "version": 3
   },
   "file_extension": ".py",
   "mimetype": "text/x-python",
   "name": "python",
   "nbconvert_exporter": "python",
   "pygments_lexer": "ipython3",
   "version": "3.13.2"
  }
 },
 "nbformat": 4,
 "nbformat_minor": 5
}
